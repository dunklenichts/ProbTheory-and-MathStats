{
  "nbformat": 4,
  "nbformat_minor": 0,
  "metadata": {
    "colab": {
      "provenance": []
    },
    "kernelspec": {
      "name": "python3",
      "display_name": "Python 3"
    },
    "language_info": {
      "name": "python"
    }
  },
  "cells": [
    {
      "cell_type": "markdown",
      "source": [
        "# **Урок 4. Непрерывные случайные величины. Функция распределения и плотность распределения вероятностей. Равномерное и нормальное распределение. Центральная предельная теорема**"
      ],
      "metadata": {
        "id": "NwdVNejb3vrd"
      }
    },
    {
      "cell_type": "code",
      "source": [
        "from math import exp, sqrt"
      ],
      "metadata": {
        "id": "STGlUEI0pfrb"
      },
      "execution_count": 8,
      "outputs": []
    },
    {
      "cell_type": "markdown",
      "source": [
        "### 1. Случайная непрерывная величина A имеет равномерное распределение на промежутке (200, 800]. Найдите ее среднее значение и дисперсию."
      ],
      "metadata": {
        "id": "e4j67LGx36hH"
      }
    },
    {
      "cell_type": "code",
      "source": [
        "a = 200\n",
        "b = 800\n",
        "M_x = (a + b) / 2\n",
        "D_x = (b - a) ** 2 / 12\n",
        "print(f'среднее значение величины А: {round(M_x)}', '\\n' +\n",
        "      f'дисперсия величины А: {round(D_x)}')"
      ],
      "metadata": {
        "colab": {
          "base_uri": "https://localhost:8080/"
        },
        "id": "ci5254elu4Oy",
        "outputId": "3fd9cc71-db93-4808-c298-ac3231390fa8"
      },
      "execution_count": 6,
      "outputs": [
        {
          "output_type": "stream",
          "name": "stdout",
          "text": [
            "среднее значение величины А: 500 \n",
            "дисперсия величины А: 30000\n"
          ]
        }
      ]
    },
    {
      "cell_type": "markdown",
      "source": [
        "____"
      ],
      "metadata": {
        "id": "SKtTTDXg4Gz6"
      }
    },
    {
      "cell_type": "markdown",
      "source": [
        "###2. О случайной непрерывной равномерно распределенной величине B известно, что ее дисперсия равна 0.2. Можно ли найти правую границу величины B и ее среднее значение зная, что левая граница равна 0.5?\n",
        "### Если да, найдите ее."
      ],
      "metadata": {
        "id": "RTxQZZUe39L1"
      }
    },
    {
      "cell_type": "markdown",
      "source": [
        "Формула дисперсии имеет следующий вид: (b - a) ** 2 / 12. Следовательно, правую границу можно выразить как: b = sqrt(2.4) + a"
      ],
      "metadata": {
        "id": "Jnw-CBEPxtLX"
      }
    },
    {
      "cell_type": "code",
      "source": [
        "D_B = 0.2\n",
        "a = 0.5\n",
        "b = sqrt(2.4) + a\n",
        "print(F'правая граница: {round(b, 4)}')\n",
        "\n",
        "M_B = (a + b) / 2\n",
        "print(f'среднее значение величины B: {round(M_B, 4)}')"
      ],
      "metadata": {
        "colab": {
          "base_uri": "https://localhost:8080/"
        },
        "id": "nSgX0k0Txirm",
        "outputId": "e22aaede-c8e9-4966-ffca-d841b5118a00"
      },
      "execution_count": 12,
      "outputs": [
        {
          "output_type": "stream",
          "name": "stdout",
          "text": [
            "правая граница: 2.0492\n",
            "среднее значение величины B: 1.2746\n"
          ]
        }
      ]
    },
    {
      "cell_type": "markdown",
      "source": [
        "___"
      ],
      "metadata": {
        "id": "yl6w7ASr4IHo"
      }
    },
    {
      "cell_type": "markdown",
      "source": [
        "### 3. Непрерывная случайная величина X распределена нормально и задана плотностью распределения\n",
        "#### f(x) = (1 / (4 * sqrt(2*pi))) * (exp(-(x+2)**2) / 32).\n",
        "#### Найдите:\n",
        "> a. M(X)  \n",
        "б. D(X)  \n",
        "в. std(X) (среднее квадратичное отклонение)"
      ],
      "metadata": {
        "id": "r_nm5zMX39Nv"
      }
    },
    {
      "cell_type": "markdown",
      "source": [
        "$$\n",
        "\\displaystyle f(x) = \\frac{1}{\\sigma \\ast \\sqrt{2 \\ast \\pi}} \\ast e^\\frac{-(x - a)^2}{2\\sigma^2}\n",
        "$$\n",
        "где $$М(Х) = a,    \\sigma^2 = D(X)$$\n",
        "\n",
        "Следовательно, M(X) = -2, D(X) = 16, $\\sigma = 4$"
      ],
      "metadata": {
        "id": "_8uAX1Vd0jYx"
      }
    },
    {
      "cell_type": "markdown",
      "source": [
        "___"
      ],
      "metadata": {
        "id": "t2lsSXTt4JPT"
      }
    },
    {
      "cell_type": "markdown",
      "source": [
        "###4. Рост взрослого населения города X имеет нормальное распределение.\n",
        "#### Причем, средний рост равен 174 см, а среднее квадратичное отклонение равно 8 см.\n",
        "#### Какова вероятность того, что случайным образом выбранный взрослый человек имеет рост:\n",
        "> a. больше 182 см  \n",
        "б. больше 190 см  \n",
        "в. от 166 см до 190 см  \n",
        "г. от 166 см до 182 см  \n",
        "д. от 158 см до 190 см  \n",
        "е. не выше 150 см или не ниже 190 см  \n",
        "ё. не выше 150 см или не ниже 198 см  \n",
        "ж. ниже 166 см."
      ],
      "metadata": {
        "id": "og1Ddw-939RT"
      }
    },
    {
      "cell_type": "code",
      "source": [
        "def z(height):\n",
        "  return (height - 174) / 8"
      ],
      "metadata": {
        "id": "AaWfbF5A4iRJ"
      },
      "execution_count": 13,
      "outputs": []
    },
    {
      "cell_type": "markdown",
      "source": [
        "a) найдем z для роста 182:"
      ],
      "metadata": {
        "id": "lgTLAjtqA59L"
      }
    },
    {
      "cell_type": "code",
      "source": [
        "print(z(182))"
      ],
      "metadata": {
        "colab": {
          "base_uri": "https://localhost:8080/"
        },
        "id": "tFhUn_ArAaPs",
        "outputId": "212aa428-d8a4-4f4d-82d8-77b057348767"
      },
      "execution_count": 14,
      "outputs": [
        {
          "output_type": "stream",
          "name": "stdout",
          "text": [
            "1.0\n"
          ]
        }
      ]
    },
    {
      "cell_type": "markdown",
      "source": [
        "по таблице нормального распределения N(z) P(Z = 1.0) = 0.8413. Однако это вероятность того, что рост будет меньше либо равен 182. Следовательно, следует вычесть полученный результат из 1:"
      ],
      "metadata": {
        "id": "DtbgzdTcBPRy"
      }
    },
    {
      "cell_type": "code",
      "source": [
        "print(f'P(X>182) = {round((1 - 0.8413), 4)}')"
      ],
      "metadata": {
        "colab": {
          "base_uri": "https://localhost:8080/"
        },
        "id": "gUFSZGcKH8W2",
        "outputId": "9cc20d86-73c0-4a62-ca07-c197e7a55202"
      },
      "execution_count": 20,
      "outputs": [
        {
          "output_type": "stream",
          "name": "stdout",
          "text": [
            "P(X>182) = 0.1587\n"
          ]
        }
      ]
    },
    {
      "cell_type": "markdown",
      "source": [
        "б) найдем z для роста больше 190:"
      ],
      "metadata": {
        "id": "XSW3Y-fTB3Gx"
      }
    },
    {
      "cell_type": "code",
      "source": [
        "print(z(190))"
      ],
      "metadata": {
        "colab": {
          "base_uri": "https://localhost:8080/"
        },
        "id": "frx4UPRAB6mP",
        "outputId": "a31cb7d4-0b9b-4923-ff06-db1808a1de4c"
      },
      "execution_count": 16,
      "outputs": [
        {
          "output_type": "stream",
          "name": "stdout",
          "text": [
            "2.0\n"
          ]
        }
      ]
    },
    {
      "cell_type": "markdown",
      "source": [
        "по таблице нормального распределения N(z) P(Z = 2.0) = 0.9772. Аналогично п. а):"
      ],
      "metadata": {
        "id": "um-BJhCICBao"
      }
    },
    {
      "cell_type": "code",
      "source": [
        "print(f'P(X>190) = {round((1 - 0.9772), 4)}')"
      ],
      "metadata": {
        "colab": {
          "base_uri": "https://localhost:8080/"
        },
        "id": "4xsthufXIYgB",
        "outputId": "9ceee4d0-9d79-4076-de36-1bc430cf1663"
      },
      "execution_count": 22,
      "outputs": [
        {
          "output_type": "stream",
          "name": "stdout",
          "text": [
            "P(X>190) = 0.0228\n"
          ]
        }
      ]
    },
    {
      "cell_type": "markdown",
      "source": [
        "в) от 166 до 190:"
      ],
      "metadata": {
        "id": "SBQbJNGBI4bZ"
      }
    },
    {
      "cell_type": "code",
      "source": [
        "z166 = z(166)\n",
        "z190 = z(190)\n",
        "print(z166, z190)"
      ],
      "metadata": {
        "colab": {
          "base_uri": "https://localhost:8080/"
        },
        "id": "NxrawnFfK9fb",
        "outputId": "fdef7c57-51e1-4529-af2d-6c818f749b0a"
      },
      "execution_count": 36,
      "outputs": [
        {
          "output_type": "stream",
          "name": "stdout",
          "text": [
            "-1.0 2.0\n"
          ]
        }
      ]
    },
    {
      "cell_type": "code",
      "source": [
        "P166 = 0.1587\n",
        "P190 = 0.9772\n",
        "print(P190 - P166)"
      ],
      "metadata": {
        "colab": {
          "base_uri": "https://localhost:8080/"
        },
        "id": "pWgQI5kzI84m",
        "outputId": "88f25f1e-3e29-4daf-f050-d7f92ae3dbd8"
      },
      "execution_count": 24,
      "outputs": [
        {
          "output_type": "stream",
          "name": "stdout",
          "text": [
            "0.8185\n"
          ]
        }
      ]
    },
    {
      "cell_type": "markdown",
      "source": [
        "г) от 166 до 182"
      ],
      "metadata": {
        "id": "IH5L9sZKJxdI"
      }
    },
    {
      "cell_type": "code",
      "source": [
        "z166 = z(166)\n",
        "z182 = z(182)\n",
        "print(z166, z182)"
      ],
      "metadata": {
        "colab": {
          "base_uri": "https://localhost:8080/"
        },
        "id": "4kVf90oKK5rn",
        "outputId": "cc992ea0-33f8-4e05-ae0f-abeb5e26423f"
      },
      "execution_count": 35,
      "outputs": [
        {
          "output_type": "stream",
          "name": "stdout",
          "text": [
            "-1.0 1.0\n"
          ]
        }
      ]
    },
    {
      "cell_type": "code",
      "source": [
        "P166 = 0.1587\n",
        "P182 = 0.8413\n",
        "print(round(P182 - P166, 4))"
      ],
      "metadata": {
        "colab": {
          "base_uri": "https://localhost:8080/"
        },
        "id": "Zoni1c85J3qo",
        "outputId": "c572f02c-930f-4785-f971-03f16031273a"
      },
      "execution_count": 27,
      "outputs": [
        {
          "output_type": "stream",
          "name": "stdout",
          "text": [
            "0.6826\n"
          ]
        }
      ]
    },
    {
      "cell_type": "markdown",
      "source": [
        "д) от 158 до 190"
      ],
      "metadata": {
        "id": "K9IO__IqKIiY"
      }
    },
    {
      "cell_type": "code",
      "source": [
        "z158 = z(158)\n",
        "z190 = z(190)\n",
        "print(z158, z190)"
      ],
      "metadata": {
        "colab": {
          "base_uri": "https://localhost:8080/"
        },
        "id": "kzJ-Wvu_K0XN",
        "outputId": "177dae5c-6138-45e7-a05e-ae4593946740"
      },
      "execution_count": 34,
      "outputs": [
        {
          "output_type": "stream",
          "name": "stdout",
          "text": [
            "-2.0 2.0\n"
          ]
        }
      ]
    },
    {
      "cell_type": "code",
      "source": [
        "P158 = 0.0228\n",
        "P190 = 0.9772\n",
        "print(round(P190 - P158, 4))"
      ],
      "metadata": {
        "colab": {
          "base_uri": "https://localhost:8080/"
        },
        "id": "LEURFTC3KMBt",
        "outputId": "1ca22bc6-84e0-447a-e6f8-33643bf38d59"
      },
      "execution_count": 31,
      "outputs": [
        {
          "output_type": "stream",
          "name": "stdout",
          "text": [
            "0.9544\n"
          ]
        }
      ]
    },
    {
      "cell_type": "markdown",
      "source": [
        "е) не выше 150 см или не ниже 190 см"
      ],
      "metadata": {
        "id": "bUMEIb54Kj78"
      }
    },
    {
      "cell_type": "code",
      "source": [
        "z150 = z(150)\n",
        "z190 = z(190)\n",
        "print(z150, z190)"
      ],
      "metadata": {
        "colab": {
          "base_uri": "https://localhost:8080/"
        },
        "id": "y_evpJ56KtkL",
        "outputId": "90c25a2c-537c-48d4-9488-adf58f6e6a23"
      },
      "execution_count": 32,
      "outputs": [
        {
          "output_type": "stream",
          "name": "stdout",
          "text": [
            "-3.0 2.0\n"
          ]
        }
      ]
    },
    {
      "cell_type": "code",
      "source": [
        "P150 = 0.0014\n",
        "P190 = 0.9772\n",
        "P190 = 1 - P190\n",
        "print(round(P190 + P150, 4))"
      ],
      "metadata": {
        "colab": {
          "base_uri": "https://localhost:8080/"
        },
        "id": "DNEe2un-LCU8",
        "outputId": "ef678848-2326-484d-992b-c6d1b8db42ab"
      },
      "execution_count": 45,
      "outputs": [
        {
          "output_type": "stream",
          "name": "stdout",
          "text": [
            "0.0242\n"
          ]
        }
      ]
    },
    {
      "cell_type": "markdown",
      "source": [
        "ё) не выше 150 см или не ниже 198 см"
      ],
      "metadata": {
        "id": "l4ilgtJ4LeTI"
      }
    },
    {
      "cell_type": "code",
      "source": [
        "z150 = z(150)\n",
        "z198 = z(198)\n",
        "print(z150, z198)"
      ],
      "metadata": {
        "colab": {
          "base_uri": "https://localhost:8080/"
        },
        "id": "7RM8Bl14LjPR",
        "outputId": "79c844f3-a19b-4cb2-f2e4-55fd9852b412"
      },
      "execution_count": 38,
      "outputs": [
        {
          "output_type": "stream",
          "name": "stdout",
          "text": [
            "-3.0 3.0\n"
          ]
        }
      ]
    },
    {
      "cell_type": "code",
      "source": [
        "P150 = 0.0014\n",
        "P198 = 0.9986\n",
        "P198 = 1 - P198\n",
        "print(round(P150 + P198, 4))"
      ],
      "metadata": {
        "colab": {
          "base_uri": "https://localhost:8080/"
        },
        "id": "g3KiH5RZLnr4",
        "outputId": "8c0d80e6-98b4-4766-84ad-becfc0d67fc5"
      },
      "execution_count": 47,
      "outputs": [
        {
          "output_type": "stream",
          "name": "stdout",
          "text": [
            "0.0028\n"
          ]
        }
      ]
    },
    {
      "cell_type": "markdown",
      "source": [
        "ж) ниже 166 см"
      ],
      "metadata": {
        "id": "1I1NkFibMdWL"
      }
    },
    {
      "cell_type": "code",
      "source": [
        "z166 = z(166)\n",
        "z166"
      ],
      "metadata": {
        "colab": {
          "base_uri": "https://localhost:8080/"
        },
        "id": "l0Wl2TsWMdhe",
        "outputId": "13e499ef-44a2-4bfb-e32c-387117c979fc"
      },
      "execution_count": 49,
      "outputs": [
        {
          "output_type": "execute_result",
          "data": {
            "text/plain": [
              "-1.0"
            ]
          },
          "metadata": {},
          "execution_count": 49
        }
      ]
    },
    {
      "cell_type": "markdown",
      "source": [
        "___"
      ],
      "metadata": {
        "id": "Su3CCrRk4KQr"
      }
    },
    {
      "cell_type": "code",
      "source": [
        "P166 = 0.1587\n",
        "P166"
      ],
      "metadata": {
        "colab": {
          "base_uri": "https://localhost:8080/"
        },
        "id": "D9MS31vGMk5A",
        "outputId": "c5f2c38b-27a5-42ac-f9a8-bb799b3e4442"
      },
      "execution_count": 51,
      "outputs": [
        {
          "output_type": "execute_result",
          "data": {
            "text/plain": [
              "0.1587"
            ]
          },
          "metadata": {},
          "execution_count": 51
        }
      ]
    },
    {
      "cell_type": "markdown",
      "source": [
        "### 5. На сколько сигм (средних квадратичных отклонений) отклоняется рост человека, равный 190 см, от математического ожидания роста в популяции, в которой M(X) = 178 см и D(X) = 25 кв.см?"
      ],
      "metadata": {
        "id": "5M3xy6XPuyqz"
      }
    },
    {
      "cell_type": "code",
      "source": [
        "# D(X) = std(X) ** 2 => D(X) = 5\n",
        "z = (190 - 178) / 5\n",
        "z"
      ],
      "metadata": {
        "colab": {
          "base_uri": "https://localhost:8080/"
        },
        "id": "3tWa1DDANaIU",
        "outputId": "10ac7023-1efa-471b-8c41-d60551e23576"
      },
      "execution_count": 52,
      "outputs": [
        {
          "output_type": "execute_result",
          "data": {
            "text/plain": [
              "2.4"
            ]
          },
          "metadata": {},
          "execution_count": 52
        }
      ]
    }
  ]
}