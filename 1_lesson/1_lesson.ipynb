{
 "cells": [
  {
   "cell_type": "markdown",
   "id": "574d1655",
   "metadata": {},
   "source": [
    "# Урок 1. Случайные события. Условная вероятность. Формула Байеса. Независимые испытания"
   ]
  },
  {
   "cell_type": "code",
   "execution_count": 2,
   "id": "e9ad35c3",
   "metadata": {},
   "outputs": [],
   "source": [
    "from math import factorial"
   ]
  },
  {
   "cell_type": "markdown",
   "id": "09a1d382",
   "metadata": {},
   "source": [
    "Функция вычисления кол-ва сочетаний n элементов по k элементов в каждом:"
   ]
  },
  {
   "cell_type": "code",
   "execution_count": 4,
   "id": "1045b9a5",
   "metadata": {},
   "outputs": [],
   "source": [
    "def combinations(n, k):\n",
    "    return int(factorial(n) / (factorial(k) * factorial(n - k)))"
   ]
  },
  {
   "cell_type": "markdown",
   "id": "8f99bb5d",
   "metadata": {},
   "source": [
    "#### 1. Из колоды в 52 карты извлекаются случайным образом 4 карты. \n",
    "\n",
    "> a) Найти вероятность того, что все карты – крести.   \n",
    ">б) Найти вероятность, что среди 4-х карт окажется хотя бы один туз."
   ]
  },
  {
   "cell_type": "markdown",
   "id": "dc5b94b6",
   "metadata": {},
   "source": [
    "а) В первый раз из колоды можно извлечь $\\displaystyle\\frac{13}{52}$ крестей. Когда будем извлекать карты во второй, то и крестей, и общего количества карт станет меньше: $\\displaystyle\\frac{12}{51}$.  \n",
    "\n",
    "При третьем извлечении: $\\displaystyle\\frac{11}{50}$.  \n",
    "\n",
    "При четвертом: $\\displaystyle\\frac{10}{49}$.  \n",
    "\n",
    "Так как событие зависимое (не возвращаем карту обратно в колоду), то:  \n",
    "\n",
    "P(C) = $\\displaystyle\\frac{13}{52}$*$\\displaystyle\\frac{12}{51}$*$\\displaystyle\\frac{11}{50}$$\\displaystyle\\frac{10}{49}$ = 0.0026"
   ]
  },
  {
   "cell_type": "markdown",
   "id": "147d697a",
   "metadata": {},
   "source": [
    "б) Кол-во исходов, при которых можно достать один туз, извлекая 4 карты:  $C^{1}_{4}*C^{3}_{48}$ \n",
    "\n",
    "Тогда вероятность, что будет извлечено 2 туза: $C^{2}_{4}*C^{2}_{48}$   \n",
    "\n",
    "3 туза:  $C^{3}_{4}*C^{1}_{48}$   \n",
    "\n",
    "И, наконец, что все извлеченные карты окажутся тузами:  $C^{4}_{4}$  \n",
    "\n",
    "Так как события совместные, то их следует сложить (логическое **ИЛИ**: **или** извлечем 1 туз, **или** 2 туза, **или** 3 туза, **или** 4):  \n",
    "\n",
    "$C^{1}_{4}*C^{3}_{48}$ + $C^{2}_{4}*C^{2}_{48}$ + $C^{3}_{4}*C^{1}_{48}$ + $C^{4}_{4}$  \n",
    "\n",
    "Воспользуемся формулой, чтобы упорстить вычисления:"
   ]
  },
  {
   "cell_type": "code",
   "execution_count": 14,
   "id": "6891ee98",
   "metadata": {},
   "outputs": [
    {
     "data": {
      "text/plain": [
       "76145"
      ]
     },
     "execution_count": 14,
     "metadata": {},
     "output_type": "execute_result"
    }
   ],
   "source": [
    "n = sum([combinations(4, 1) * combinations(48, 3), combinations(4, 2) * combinations(48, 2), \n",
    "         combinations(4, 3) * combinations(48, 1),combinations(4, 4)])\n",
    "n"
   ]
  },
  {
   "cell_type": "markdown",
   "id": "f40f4aa9",
   "metadata": {},
   "source": [
    "Выше было найдено благоприятное количество исходов. В то время как общее количество исходов:"
   ]
  },
  {
   "cell_type": "code",
   "execution_count": 15,
   "id": "0887ce0b",
   "metadata": {},
   "outputs": [
    {
     "data": {
      "text/plain": [
       "270725"
      ]
     },
     "execution_count": 15,
     "metadata": {},
     "output_type": "execute_result"
    }
   ],
   "source": [
    "N = combinations(52, 4)\n",
    "N"
   ]
  },
  {
   "cell_type": "markdown",
   "id": "5f040e98",
   "metadata": {},
   "source": [
    "Следовательно, вероятность извлечь хотя бы один туз:"
   ]
  },
  {
   "cell_type": "code",
   "execution_count": 16,
   "id": "9556e346",
   "metadata": {},
   "outputs": [
    {
     "name": "stdout",
     "output_type": "stream",
     "text": [
      "0.2813\n"
     ]
    }
   ],
   "source": [
    "P = n / N\n",
    "print(round(P, 4))"
   ]
  },
  {
   "cell_type": "markdown",
   "id": "2d061bc3",
   "metadata": {},
   "source": [
    "Ответ:  а) 0.0026 = 0,26%                б) 0,2813 = 28,13%"
   ]
  },
  {
   "cell_type": "markdown",
   "id": "f911bf8f",
   "metadata": {},
   "source": [
    "****"
   ]
  },
  {
   "cell_type": "markdown",
   "id": "1e636959",
   "metadata": {},
   "source": [
    "#### 2. На входной двери подъезда установлен кодовый замок, содержащий десять кнопок с цифрами от 0 до 9. Код содержит три цифры, которые нужно нажать одновременно. Какова вероятность того, что человек, не знающий код, откроет дверь с первой попытки?"
   ]
  },
  {
   "cell_type": "markdown",
   "id": "f25fcde5",
   "metadata": {},
   "source": [
    "Сначала определим общее число возможных комбинаций 3-х элементов из 10 возможных:\n",
    "\n",
    "$C^{3}_{10}$ = 10! / (3! * 7!) = 120 - это N\n",
    "\n",
    "Тогда кол-во благоприятных исходов - 1, так как по условию дверь неоьходимо открыть с первого раза. Следовательно:\n",
    "\n",
    "P = 1 / 120 = 0,0083"
   ]
  },
  {
   "cell_type": "code",
   "execution_count": 18,
   "id": "796f3376",
   "metadata": {},
   "outputs": [
    {
     "name": "stdout",
     "output_type": "stream",
     "text": [
      "0.0083\n"
     ]
    }
   ],
   "source": [
    "N = combinations(10, 3)\n",
    "P = 1 / N\n",
    "print(round(P, 4))"
   ]
  },
  {
   "cell_type": "markdown",
   "id": "2dbf350f",
   "metadata": {},
   "source": [
    "Ответ: 0,00083 = 0,83%"
   ]
  },
  {
   "cell_type": "markdown",
   "id": "3d5061db",
   "metadata": {},
   "source": [
    "____"
   ]
  },
  {
   "cell_type": "markdown",
   "id": "1f5ce8c1",
   "metadata": {},
   "source": [
    "#### 3. В ящике имеется 15 деталей, из которых 9 окрашены. Рабочий случайным образом извлекает 3 детали. Какова вероятность того, что все извлеченные детали окрашены?"
   ]
  },
  {
   "cell_type": "markdown",
   "id": "5287ed53",
   "metadata": {},
   "source": [
    "Число благоприятных исходов - число комбинаций из 9 элементов по 3:\n",
    "\n",
    "$C^{3}_{9}$ = 9! / (3! * 6!) = 84 [n]\n",
    "\n",
    "\n",
    "Общее количество возможных комбинаций:\n",
    "\n",
    "$C^{3}_{15}$ = 15! / (3! * 12!) = 455 [N]\n",
    "\n",
    "Тогда вероятность выбрать 3 окрашенных шара:\n",
    "\n",
    "P = n / N = 84 / 455 = 0,1846"
   ]
  },
  {
   "cell_type": "code",
   "execution_count": 21,
   "id": "4f853e05",
   "metadata": {},
   "outputs": [
    {
     "name": "stdout",
     "output_type": "stream",
     "text": [
      "0.1846\n"
     ]
    }
   ],
   "source": [
    "n = combinations(9, 3)\n",
    "N = combinations(15, 3)\n",
    "P = n / N\n",
    "print(round(P, 4))"
   ]
  },
  {
   "cell_type": "markdown",
   "id": "5c0e8e0b",
   "metadata": {},
   "source": [
    "Ответ: 0.1846 = 18,46%"
   ]
  },
  {
   "cell_type": "markdown",
   "id": "0a5f5ef8",
   "metadata": {},
   "source": [
    "____"
   ]
  },
  {
   "cell_type": "markdown",
   "id": "35f40a55",
   "metadata": {},
   "source": [
    "#### 4. В лотерее 100 билетов. Из них 2 выигрышных. Какова вероятность того, что 2 приобретенных билета окажутся выигрышными?"
   ]
  },
  {
   "cell_type": "markdown",
   "id": "832446f3",
   "metadata": {},
   "source": [
    "Кол-во благоприятных исходов - 1, так как $C^{2}_{2}$ = 2! / (2! * 0!) = 1 [n]\n",
    "\n",
    "Общее кол-во возможных вариантов исхода событий: $C^{100}_{2}$ = 100! / (2! * 100!) = 4 950 [N]\n",
    "\n",
    "Тогда вероятность выбрать 2 выигрышных билета из 100:\n",
    "\n",
    "Р = n / N = 1 / 4 950 = 0.0002"
   ]
  },
  {
   "cell_type": "code",
   "execution_count": 26,
   "id": "dd756c99",
   "metadata": {},
   "outputs": [
    {
     "name": "stdout",
     "output_type": "stream",
     "text": [
      "0.0002\n"
     ]
    }
   ],
   "source": [
    "P = 1 / combinations(100, 2)\n",
    "print(round(P, 4))"
   ]
  },
  {
   "cell_type": "markdown",
   "id": "09c9faa6",
   "metadata": {},
   "source": [
    "Ответ: 0.0002 = 0.02%"
   ]
  },
  {
   "cell_type": "markdown",
   "id": "97bd7a82",
   "metadata": {},
   "source": [
    "____"
   ]
  },
  {
   "cell_type": "markdown",
   "id": "b9622f47",
   "metadata": {},
   "source": [
    "#### 5. На соревновании по биатлону один из трех спортсменов стреляет и попадает в мишень. Вероятность попадания для первого спортсмена равна 0.9, для второго — 0.8, для третьего — 0.6. Найти вероятность того, что выстрел произведен: \n",
    "\n",
    "> a) первым спортсменом   \n",
    "б) вторым спортсменом   \n",
    "в) третьим спортсменом."
   ]
  },
  {
   "cell_type": "markdown",
   "id": "e77df806",
   "metadata": {},
   "source": [
    "В1 - первый спортсмен\n",
    "В2 - второй спортсмен\n",
    "В3 - третий спортсмен\n",
    "\n",
    "А - попадание в мишень\n",
    "P(A/B1) = 0.9\n",
    "P(A/B2) = 0.8\n",
    "P(A/B3) = 0.6\n",
    "\n",
    "Формула Байеса:\n",
    "$P(B/A) = \\displaystyle\\frac{P(B)*P(A/B)}{P(A)}$\n",
    "\n",
    "Сперва посчитаем вероятность того, что выйдет первый/второй/третий спортсмен: $P(B) = \\displaystyle\\frac{1}{3}$\n",
    "\n",
    "Затем посчитаем полную вероятность P(A) = P(B1) * P(A/B1) + P(B2) * P(A/B2) + P(B3) * P(A/B3) = $\\displaystyle\\frac{1}{3} * 0.9 + \\displaystyle\\frac{1}{3} * 0.8 + \\displaystyle\\frac{1}{3} * 0.6 = 0,7666$\n",
    "\n",
    "\n",
    "Затем можно посчитать саму вероятность:\n",
    "\n",
    "а) P(B1/A) =  (1 / 3 * 0.9) / 0.7666 = 0.3913\n",
    "\n",
    "б) P(B2/A) =  (1 / 3 * 0.8) / 0.7666 = 0.3478\n",
    "\n",
    "в) P(B3/A) =  (1 / 3 * 0.6) / 0.7666 = 0,2608"
   ]
  },
  {
   "cell_type": "markdown",
   "id": "a96d32d8",
   "metadata": {},
   "source": [
    "Ответ:\n",
    "    \n",
    "а) 0.3913 = 39,13%\n",
    "\n",
    "б) 0.3478 = 34,78%\n",
    "\n",
    "в) 0,2608 = 26,08%"
   ]
  },
  {
   "cell_type": "markdown",
   "id": "875fd178",
   "metadata": {},
   "source": [
    "_____"
   ]
  }
 ],
 "metadata": {
  "kernelspec": {
   "display_name": "Python 3 (ipykernel)",
   "language": "python",
   "name": "python3"
  },
  "language_info": {
   "codemirror_mode": {
    "name": "ipython",
    "version": 3
   },
   "file_extension": ".py",
   "mimetype": "text/x-python",
   "name": "python",
   "nbconvert_exporter": "python",
   "pygments_lexer": "ipython3",
   "version": "3.9.13"
  }
 },
 "nbformat": 4,
 "nbformat_minor": 5
}
