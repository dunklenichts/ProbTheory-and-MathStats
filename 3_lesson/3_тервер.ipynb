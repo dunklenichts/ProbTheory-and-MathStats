{
  "nbformat": 4,
  "nbformat_minor": 0,
  "metadata": {
    "colab": {
      "provenance": []
    },
    "kernelspec": {
      "name": "python3",
      "display_name": "Python 3"
    },
    "language_info": {
      "name": "python"
    }
  },
  "cells": [
    {
      "cell_type": "markdown",
      "source": [
        "# **Урок 3. Описательная статистика. Качественные и количественные характеристики популяции. Графическое представление данных**"
      ],
      "metadata": {
        "id": "NwdVNejb3vrd"
      }
    },
    {
      "cell_type": "code",
      "source": [
        "from math import factorial"
      ],
      "metadata": {
        "id": "ppWDxdPplj6E"
      },
      "execution_count": 20,
      "outputs": []
    },
    {
      "cell_type": "code",
      "source": [
        "from math import exp, sqrt"
      ],
      "metadata": {
        "id": "STGlUEI0pfrb"
      },
      "execution_count": 8,
      "outputs": []
    },
    {
      "cell_type": "code",
      "source": [
        "def combinations(n, k):\n",
        "    return int(factorial(n) / (factorial(k) * factorial(n - k)))"
      ],
      "metadata": {
        "id": "qyqp5UG2_XH7"
      },
      "execution_count": 18,
      "outputs": []
    },
    {
      "cell_type": "markdown",
      "source": [
        "### 1. Даны значения зарплат из выборки выпускников: 100, 80, 75, 77, 89, 33, 45, 25, 65, 17, 30, 24, 57, 55, 70, 75, 65, 84, 90, 150. Посчитать (желательно без использования статистических методов наподобие std, var, mean) среднее арифметическое, среднее квадратичное отклонение, смещенную и несмещенную оценки дисперсий для данной выборки."
      ],
      "metadata": {
        "id": "e4j67LGx36hH"
      }
    },
    {
      "cell_type": "code",
      "source": [
        "salary = [100, 80, 75, 77, 89, 33, 45, 25, 65, 17, 30, 24, 57, 55, 70, 75, 65, 84, 90, 150]"
      ],
      "metadata": {
        "id": "gMY46uW9s2h2"
      },
      "execution_count": 4,
      "outputs": []
    },
    {
      "cell_type": "markdown",
      "source": [
        "среднее арифметическое:"
      ],
      "metadata": {
        "id": "_9hF2GQS8epU"
      }
    },
    {
      "cell_type": "code",
      "source": [
        "avg_salary = sum(salary) / len(salary)\n",
        "avg = (100 + 80 + 75 + 77 + 89 + 33 + 45 + 25 + 65 + 17 + 30 + 24 + 57 + 55 + 70 + 75 + 65 + 84 + 90 + 150) / 20\n",
        "avg"
      ],
      "metadata": {
        "colab": {
          "base_uri": "https://localhost:8080/"
        },
        "id": "Q0LkbKsY7pd_",
        "outputId": "5f3ae94d-5860-43e8-d8c4-d4c9ad7c54e1"
      },
      "execution_count": 15,
      "outputs": [
        {
          "output_type": "execute_result",
          "data": {
            "text/plain": [
              "65.3"
            ]
          },
          "metadata": {},
          "execution_count": 15
        }
      ]
    },
    {
      "cell_type": "markdown",
      "source": [
        "среднее квадратичное отклонение:"
      ],
      "metadata": {
        "id": "FBaDxzrK-GJS"
      }
    },
    {
      "cell_type": "code",
      "source": [
        "temp = 0\n",
        "for elem in salary:\n",
        "  temp += ((elem - avg_salary) ** 2)\n",
        "b = temp / len(salary)\n",
        "round(sqrt(b), 4)"
      ],
      "metadata": {
        "colab": {
          "base_uri": "https://localhost:8080/"
        },
        "id": "kPfybttk-GWA",
        "outputId": "e5cb5af1-2c6d-4207-abab-b9a47b996633"
      },
      "execution_count": 17,
      "outputs": [
        {
          "output_type": "execute_result",
          "data": {
            "text/plain": [
              "30.8239"
            ]
          },
          "metadata": {},
          "execution_count": 17
        }
      ]
    },
    {
      "cell_type": "markdown",
      "source": [
        "смещенная оценка дисперсии:"
      ],
      "metadata": {
        "id": "FgBdwDP58hPm"
      }
    },
    {
      "cell_type": "code",
      "source": [
        "temp = 0\n",
        "for elem in salary:\n",
        "  temp += ((elem - avg_salary) ** 2)\n",
        "b = temp / len(salary)\n",
        "b"
      ],
      "metadata": {
        "colab": {
          "base_uri": "https://localhost:8080/"
        },
        "id": "B3DZsrAra0O6",
        "outputId": "fffcc2f6-4a9d-41d8-ab4a-2ab21705588d"
      },
      "execution_count": 5,
      "outputs": [
        {
          "output_type": "execute_result",
          "data": {
            "text/plain": [
              "950.11"
            ]
          },
          "metadata": {},
          "execution_count": 5
        }
      ]
    },
    {
      "cell_type": "markdown",
      "source": [
        "несмещенная оценка дисперсии:"
      ],
      "metadata": {
        "id": "YXWF1eBT88ub"
      }
    },
    {
      "cell_type": "code",
      "source": [
        "temp = 0\n",
        "for elem in salary:\n",
        "  temp += ((elem - avg_salary) ** 2)\n",
        "b = temp / (len(salary) - 1)\n",
        "round(b, 4)"
      ],
      "metadata": {
        "colab": {
          "base_uri": "https://localhost:8080/"
        },
        "id": "hN1D_u2K9lqe",
        "outputId": "671274b8-a195-4495-c496-3096bfefa908"
      },
      "execution_count": 13,
      "outputs": [
        {
          "output_type": "execute_result",
          "data": {
            "text/plain": [
              "1000.1158"
            ]
          },
          "metadata": {},
          "execution_count": 13
        }
      ]
    },
    {
      "cell_type": "markdown",
      "source": [
        "____"
      ],
      "metadata": {
        "id": "SKtTTDXg4Gz6"
      }
    },
    {
      "cell_type": "markdown",
      "source": [
        "###2. В первом ящике находится 8 мячей, из которых 5 - белые. Во втором ящике - 12 мячей, из которых 5 белых. Из первого ящика вытаскивают случайным образом два мяча, из второго - 4. Какова вероятность того, что 3 мяча белые?"
      ],
      "metadata": {
        "id": "RTxQZZUe39L1"
      }
    },
    {
      "cell_type": "markdown",
      "source": [
        "Есть несколько вариантов исхода событий:\n",
        "1: из первого ящика вытащим 2 белых шара, а из второго - 1 белый;\n",
        "2: из первого ящика вытащим 1 белый, а из второго - 2 белых;\n",
        "3: из первого ящика не вытащим ни одного белого шара, а из второго - все 3.\n",
        "\n",
        "Исходя из этого имеем:"
      ],
      "metadata": {
        "id": "-vV_gCdnAqfm"
      }
    },
    {
      "cell_type": "code",
      "source": [
        "P1 = (combinations(5, 2) * combinations(3, 0) / combinations(8, 2)) * (combinations(5, 1) * combinations(7, 3) / combinations(12, 4))\n",
        "P2 = (combinations(5, 1) * combinations(3, 1) / combinations(8, 2)) * (combinations(5, 2) * combinations(7, 2) / combinations(12, 4))\n",
        "P3 = (combinations(5, 0) * combinations(3, 2) / combinations(8, 2)) * (combinations(5, 3) * combinations(7, 1) / combinations(12, 4))\n",
        "\n",
        "P = P1 + P2 + P3\n",
        "round(P, 4)"
      ],
      "metadata": {
        "colab": {
          "base_uri": "https://localhost:8080/"
        },
        "id": "H6MVK_ou_gKm",
        "outputId": "5740c794-5e0d-4ee8-bb82-7a666da5ce6b"
      },
      "execution_count": 22,
      "outputs": [
        {
          "output_type": "execute_result",
          "data": {
            "text/plain": [
              "0.3687"
            ]
          },
          "metadata": {},
          "execution_count": 22
        }
      ]
    },
    {
      "cell_type": "markdown",
      "source": [
        "___"
      ],
      "metadata": {
        "id": "yl6w7ASr4IHo"
      }
    },
    {
      "cell_type": "markdown",
      "source": [
        "### 3. В университет на факультеты A и B поступило равное количество студентов, а на факультет C студентов поступило столько же, сколько на A и B вместе. Вероятность того, что студент факультета A сдаст первую сессию, равна 0.8. Для студента факультета B эта вероятность равна 0.7, а для студента факультета C - 0.9. Студент сдал первую сессию. Какова вероятность, что он учится: a). на факультете A б). на факультете B в). на факультете C?"
      ],
      "metadata": {
        "id": "r_nm5zMX39Nv"
      }
    },
    {
      "cell_type": "markdown",
      "source": [
        "А - вероятность сдачи сессии.\n",
        "\n",
        "В1 - факультет А, В2 - факультет В, И3 - факультет В3\n",
        "\n",
        "P(A/B1) = 0.8, P(A/B2) = 0.7, P(A/B3) = 0.9\n",
        "\n",
        "По условию, на факультеты А и В поступило одинаковое кол-во студентов (2х), а на факультет С - столько, сколько на А и В вместе (4х). Значит, мы можем выбрать студента с факультетов А и В с вероятностью 0.25, а с факультета С - в два раза больше, то есть 0.5."
      ],
      "metadata": {
        "id": "C2eztp2VCAKB"
      }
    },
    {
      "cell_type": "code",
      "source": [
        "P_A = 1 / 4 * 0.8 + 1 / 4 * 0.7 + 1 / 2 * 0.9\n",
        "P_A"
      ],
      "metadata": {
        "colab": {
          "base_uri": "https://localhost:8080/"
        },
        "id": "FRVAnETeDhub",
        "outputId": "513de4c9-de66-49f9-a22d-fc6a55680631"
      },
      "execution_count": 25,
      "outputs": [
        {
          "output_type": "execute_result",
          "data": {
            "text/plain": [
              "0.825"
            ]
          },
          "metadata": {},
          "execution_count": 25
        }
      ]
    },
    {
      "cell_type": "markdown",
      "source": [
        "вероятность того, что сдавший студент окажется с факультета А:"
      ],
      "metadata": {
        "id": "Gwfc8x2wE2dC"
      }
    },
    {
      "cell_type": "code",
      "source": [
        "P1 = 1 / 4 * 0.8 / P_A\n",
        "round(P1, 4)"
      ],
      "metadata": {
        "colab": {
          "base_uri": "https://localhost:8080/"
        },
        "id": "s-UXEkMKEn8v",
        "outputId": "496b58dc-9721-43c1-fca4-c12047a252ba"
      },
      "execution_count": 27,
      "outputs": [
        {
          "output_type": "execute_result",
          "data": {
            "text/plain": [
              "0.2424"
            ]
          },
          "metadata": {},
          "execution_count": 27
        }
      ]
    },
    {
      "cell_type": "markdown",
      "source": [
        "вероятность того, что сдавший студент окажется с факультета В:"
      ],
      "metadata": {
        "id": "Jglungz9E8l-"
      }
    },
    {
      "cell_type": "code",
      "source": [
        "P1 = 1 / 4 * 0.7 / P_A\n",
        "round(P1, 4)"
      ],
      "metadata": {
        "colab": {
          "base_uri": "https://localhost:8080/"
        },
        "id": "ZDng1yN1E8ux",
        "outputId": "632d419b-70c6-481a-a354-606101bb9d16"
      },
      "execution_count": 28,
      "outputs": [
        {
          "output_type": "execute_result",
          "data": {
            "text/plain": [
              "0.2121"
            ]
          },
          "metadata": {},
          "execution_count": 28
        }
      ]
    },
    {
      "cell_type": "markdown",
      "source": [
        "вероятность того, что сдавший студент окажется с факультета С:"
      ],
      "metadata": {
        "id": "X0cTqcLUE82u"
      }
    },
    {
      "cell_type": "code",
      "source": [
        "P1 = 1 / 2 * 0.9 / P_A\n",
        "round(P1, 4)"
      ],
      "metadata": {
        "colab": {
          "base_uri": "https://localhost:8080/"
        },
        "id": "OtKkaReJE9BF",
        "outputId": "ae0eb5a4-469e-4e76-88d3-aa44c54f8304"
      },
      "execution_count": 29,
      "outputs": [
        {
          "output_type": "execute_result",
          "data": {
            "text/plain": [
              "0.5455"
            ]
          },
          "metadata": {},
          "execution_count": 29
        }
      ]
    },
    {
      "cell_type": "markdown",
      "source": [
        "___"
      ],
      "metadata": {
        "id": "t2lsSXTt4JPT"
      }
    },
    {
      "cell_type": "markdown",
      "source": [
        "###4. Устройство состоит из трех деталей. Для первой детали вероятность выйти из строя в первый месяц равна 0.1, для второй - 0.2, для третьей - 0.25. Какова вероятность того, что в первый месяц выйдут из строя: а). все детали б). только две детали в). хотя бы одна деталь г). от одной до двух деталей?"
      ],
      "metadata": {
        "id": "og1Ddw-939RT"
      }
    },
    {
      "cell_type": "markdown",
      "source": [
        "В1 - первый месяц,  \n",
        "В2 - второй месяц,  \n",
        "В3 - третий месяц  \n",
        "А - вероятность детали выйти из строя\n",
        "\n",
        "P(A/B1) = 0.1  \n",
        "P(A/B2) = 0.2  \n",
        "P(A/B3) = 0.25"
      ],
      "metadata": {
        "id": "ca1-g0ZxFOGq"
      }
    },
    {
      "cell_type": "markdown",
      "source": [
        "вероятность того, что из строя выйдут все детали:"
      ],
      "metadata": {
        "id": "Gl4QEneRF9II"
      }
    },
    {
      "cell_type": "code",
      "source": [
        "P = 0.1 * 0.2 * 0.25\n",
        "round(P, 4)"
      ],
      "metadata": {
        "colab": {
          "base_uri": "https://localhost:8080/"
        },
        "id": "y7Qa_lA7GAJa",
        "outputId": "4003ac3f-0d34-4063-c68d-48241490a6e8"
      },
      "execution_count": 31,
      "outputs": [
        {
          "output_type": "execute_result",
          "data": {
            "text/plain": [
              "0.005"
            ]
          },
          "metadata": {},
          "execution_count": 31
        }
      ]
    },
    {
      "cell_type": "markdown",
      "source": [
        "вероятность того, что из строя выйдут две детали:"
      ],
      "metadata": {
        "id": "Yrw-YXESGJMv"
      }
    },
    {
      "cell_type": "code",
      "source": [
        "P2 = (1 - 0.1) * 0.2 * 0.25 + 0.1 * (1 - 0.2) * 0.25 + 0.1 * 0.2 * (1 - 0.25)\n",
        "round(P2, 4)"
      ],
      "metadata": {
        "colab": {
          "base_uri": "https://localhost:8080/"
        },
        "id": "ggimR86OGJiY",
        "outputId": "c6b28164-5557-45de-d80a-fba5b7daf4b5"
      },
      "execution_count": 32,
      "outputs": [
        {
          "output_type": "execute_result",
          "data": {
            "text/plain": [
              "0.08"
            ]
          },
          "metadata": {},
          "execution_count": 32
        }
      ]
    },
    {
      "cell_type": "markdown",
      "source": [
        "вероятность того, что из строя выйдет хотя бы одна деталь:"
      ],
      "metadata": {
        "id": "fYjIyDzwGhhg"
      }
    },
    {
      "cell_type": "code",
      "source": [
        "P3 = 1 - (1 - 0.1) * (1 - 0.2) * (1 - 0.25)\n",
        "round(P3, 4)"
      ],
      "metadata": {
        "colab": {
          "base_uri": "https://localhost:8080/"
        },
        "id": "bhzKDghpGhsf",
        "outputId": "cecc6bd2-0dde-4fbc-9de9-68f6a34cf25c"
      },
      "execution_count": 35,
      "outputs": [
        {
          "output_type": "execute_result",
          "data": {
            "text/plain": [
              "0.46"
            ]
          },
          "metadata": {},
          "execution_count": 35
        }
      ]
    },
    {
      "cell_type": "markdown",
      "source": [
        "от одной до двух деталей:"
      ],
      "metadata": {
        "id": "TLEOYzakITrz"
      }
    },
    {
      "cell_type": "markdown",
      "source": [
        "___"
      ],
      "metadata": {
        "id": "Su3CCrRk4KQr"
      }
    },
    {
      "cell_type": "code",
      "source": [
        "P4 = P2 + (1 - 0.1) * (1 - 0.2) * 0.25 + 0.1 * (1 - 0.2) * (1 - 0.25) + (1 - 0.1) * 0.2 * (1 - 0.25)\n",
        "P4"
      ],
      "metadata": {
        "colab": {
          "base_uri": "https://localhost:8080/"
        },
        "id": "j-5JcUK7IXCu",
        "outputId": "a6e09a50-823a-49ba-a27b-adf22cb6e22b"
      },
      "execution_count": 37,
      "outputs": [
        {
          "output_type": "execute_result",
          "data": {
            "text/plain": [
              "0.455"
            ]
          },
          "metadata": {},
          "execution_count": 37
        }
      ]
    }
  ]
}