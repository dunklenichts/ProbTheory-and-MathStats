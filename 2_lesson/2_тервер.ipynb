{
  "nbformat": 4,
  "nbformat_minor": 0,
  "metadata": {
    "colab": {
      "provenance": []
    },
    "kernelspec": {
      "name": "python3",
      "display_name": "Python 3"
    },
    "language_info": {
      "name": "python"
    }
  },
  "cells": [
    {
      "cell_type": "markdown",
      "source": [
        "# **Урок 2. Дискретные случайные величины. Закон распределения вероятностей. Биномиальный закон распределения. Распределение Пуассона**"
      ],
      "metadata": {
        "id": "NwdVNejb3vrd"
      }
    },
    {
      "cell_type": "code",
      "source": [
        "from math import factorial"
      ],
      "metadata": {
        "id": "ppWDxdPplj6E"
      },
      "execution_count": 2,
      "outputs": []
    },
    {
      "cell_type": "code",
      "source": [
        "from math import exp"
      ],
      "metadata": {
        "id": "STGlUEI0pfrb"
      },
      "execution_count": 3,
      "outputs": []
    },
    {
      "cell_type": "markdown",
      "source": [
        "**Биномиальное распределение (bernoulli)** принимает параметры: р - вероятность исхода при одной попытке; n - общее кол-во экспериментов; k - кол-во действий для появления нужного исхода.\n",
        "\n",
        "**Распределение Пуассона (poisson)** принимает параметры: р - вероятность исхода при одной попытке; n - общее кол-во экспериментов; k - кол-во действий для появления нужного исхода."
      ],
      "metadata": {
        "id": "Z5Ym7gR5n1sa"
      }
    },
    {
      "cell_type": "code",
      "source": [
        "def combinations(n, k):\n",
        "    return int(factorial(n) / (factorial(k) * factorial(n - k)))"
      ],
      "metadata": {
        "id": "N5Oufp4klhQO"
      },
      "execution_count": 4,
      "outputs": []
    },
    {
      "cell_type": "code",
      "source": [
        "def bernoulli(p, n, k):\n",
        "  return combinations(n,k) * p ** k * (1 - p) ** (n - k)"
      ],
      "metadata": {
        "id": "t6zmexPP4U_r"
      },
      "execution_count": 5,
      "outputs": []
    },
    {
      "cell_type": "code",
      "source": [
        "def poisson(p, n, m):\n",
        "  lbd = n * p\n",
        "  return lbd ** m / factorial(m) * exp(-lbd)"
      ],
      "metadata": {
        "id": "eG5US0KknptS"
      },
      "execution_count": 6,
      "outputs": []
    },
    {
      "cell_type": "markdown",
      "source": [
        "### 1. Вероятность того, что стрелок попадет в мишень, выстрелив один раз, равна 0.8. Стрелок выстрелил 100 раз. Найдите вероятность того, что стрелок попадет в цель ровно 85 раз."
      ],
      "metadata": {
        "id": "e4j67LGx36hH"
      }
    },
    {
      "cell_type": "markdown",
      "source": [
        "Так как n мало, то используем биномиальное распределение (ф. Бернулли):"
      ],
      "metadata": {
        "id": "LJV6lXJ7oqX4"
      }
    },
    {
      "cell_type": "code",
      "source": [
        "P = bernoulli(0.8, 100, 85)\n",
        "print(f'{round(P * 100, 4)}%')"
      ],
      "metadata": {
        "colab": {
          "base_uri": "https://localhost:8080/"
        },
        "id": "QXth4Fxll06E",
        "outputId": "780b6a34-3177-4cb6-d6b4-77f245fe8963"
      },
      "execution_count": 27,
      "outputs": [
        {
          "output_type": "stream",
          "name": "stdout",
          "text": [
            "4.8062%\n"
          ]
        }
      ]
    },
    {
      "cell_type": "markdown",
      "source": [
        "____"
      ],
      "metadata": {
        "id": "SKtTTDXg4Gz6"
      }
    },
    {
      "cell_type": "markdown",
      "source": [
        "###2. Вероятность того, что лампочка перегорит в течение первого дня эксплуатации, равна 0.0004. В жилом комплексе после ремонта в один день включили 5000 новых лампочек. Какова вероятность, что ни одна из них не перегорит в первый день? Какова вероятность, что перегорят ровно две?"
      ],
      "metadata": {
        "id": "RTxQZZUe39L1"
      }
    },
    {
      "cell_type": "markdown",
      "source": [
        "Малая вероятность (0.0004 << 0.1) и большое n (5000 >> 100) указывает на распределение Пуассона:"
      ],
      "metadata": {
        "id": "FMJJNGjHo2xX"
      }
    },
    {
      "cell_type": "code",
      "source": [
        "P = poisson(0.0004, 5000, 0)\n",
        "print(f'Вер-ть того, что ни одна из лампочек не перегорит: {round(P * 100, 4)}%')\n",
        "\n",
        "P = poisson(0.0004, 5000, 2)\n",
        "print(f'Вер-ть того, что перегорят ровно две лампочки: {round(P * 100, 4)}%')"
      ],
      "metadata": {
        "colab": {
          "base_uri": "https://localhost:8080/"
        },
        "id": "PVYV4vX7mQ1V",
        "outputId": "013ca514-cd3f-4493-ef30-d4ed43ffa9b6"
      },
      "execution_count": 26,
      "outputs": [
        {
          "output_type": "stream",
          "name": "stdout",
          "text": [
            "Вер-ть того, что ни одна из лампочек не перегорит: 13.5335%\n",
            "Вер-ть того, что перегорят ровно две лампочки: 27.0671%\n"
          ]
        }
      ]
    },
    {
      "cell_type": "markdown",
      "source": [
        "___"
      ],
      "metadata": {
        "id": "yl6w7ASr4IHo"
      }
    },
    {
      "cell_type": "markdown",
      "source": [
        "### 3. Монету подбросили 144 раза. Какова вероятность, что орел выпадет ровно 70 раз?"
      ],
      "metadata": {
        "id": "r_nm5zMX39Nv"
      }
    },
    {
      "cell_type": "markdown",
      "source": [
        "Вероятность того, что выпадет орел - 0.5. Кол-во экспериментов n не сильно больше 100, поэтому можно использовать биномиальное распределение:"
      ],
      "metadata": {
        "id": "d3rTpkAguPkP"
      }
    },
    {
      "cell_type": "code",
      "source": [
        "P = bernoulli(0.5, 144, 70)\n",
        "print(f'{round(P * 100, 4)}%')"
      ],
      "metadata": {
        "colab": {
          "base_uri": "https://localhost:8080/"
        },
        "id": "UjLDOwsWqtdW",
        "outputId": "dbb3d470-00ab-4949-d7e5-ff145e05998d"
      },
      "execution_count": 24,
      "outputs": [
        {
          "output_type": "stream",
          "name": "stdout",
          "text": [
            "6.2812%\n"
          ]
        }
      ]
    },
    {
      "cell_type": "markdown",
      "source": [
        "___"
      ],
      "metadata": {
        "id": "t2lsSXTt4JPT"
      }
    },
    {
      "cell_type": "markdown",
      "source": [
        "###4. В первом ящике находится 10 мячей, из которых 7 - белые. Во втором ящике - 11 мячей, из которых 9 белых. Из каждого ящика вытаскивают случайным образом по два мяча. Какова вероятность того, что все мячи белые? Какова вероятность того, что ровно два мяча белые? Какова вероятность того, что хотя бы один мяч белый?"
      ],
      "metadata": {
        "id": "og1Ddw-939RT"
      }
    },
    {
      "cell_type": "code",
      "source": [
        "# вероятность того, что вытащим из первого ящика 2 белых мяча\n",
        "P1 = combinations(7, 2) / combinations(10, 2)\n",
        "# вероятность того, что вытащим из второго ящика 2 белых мяча\n",
        "P2 = combinations(9, 2) / combinations(11, 2)\n",
        "P = P1 * P2 * 100\n",
        "print(f'Вероятность того, что все мячи белые {round(P, 4)}%')"
      ],
      "metadata": {
        "colab": {
          "base_uri": "https://localhost:8080/"
        },
        "id": "WlGms86Yv_pQ",
        "outputId": "824d74d5-d806-4079-8c45-914ce74fd7e9"
      },
      "execution_count": 22,
      "outputs": [
        {
          "output_type": "stream",
          "name": "stdout",
          "text": [
            "Вероятность того, что все мячи белые 30.5455%\n"
          ]
        }
      ]
    },
    {
      "cell_type": "markdown",
      "source": [
        "В следующем вопросе надо рассмотреть несколько возможных исхода событий:\n",
        "1. Можно вытащить два мяча из первого ящика, а из второго вытащить не белые;\n",
        "2. Вытащить один белый мяч из первого ящика, а один - из второго;\n",
        "3. Вытащить два белых мяча из второго ящика.\n",
        "\n",
        "При первом варианте надо иметь ввиду, что из 11 мячей во втором ящике лишь два из них не белого цвета (по условию, 11 - 9 = 2). Значит, рассматривать комбинации выбора не белых мячей следует из мысли о том, что из двух возможных не белых мячей, мы вытащим именно их.\n",
        "\n",
        "Во втором варианте из первого ящика мы вытаскиваем 1 белый мяч и один не белый (из 3 возможных, так как их 10 - 7 = 3). Аналогично со вторым ящиком.\n",
        "\n",
        "Третий вариант аналогичен первому."
      ],
      "metadata": {
        "id": "lDE3p0Y-yqiu"
      }
    },
    {
      "cell_type": "code",
      "source": [
        "P1 = combinations(7, 2) / combinations(10, 2) * combinations(2, 2) / combinations(11, 2)\n",
        "P2 = (combinations(7, 1) * combinations(3, 1) / combinations(10, 2)) * (combinations(9, 1) * combinations(2, 1) / combinations(11, 2))\n",
        "P3 = (combinations(3, 2) / combinations(10, 2)) * (combinations(9, 2) / combinations(11, 2))\n",
        "print(f'Вероятность того, что ровно два мяча белые {round((P1 + P2 + P3) * 100, 4)}%')"
      ],
      "metadata": {
        "colab": {
          "base_uri": "https://localhost:8080/"
        },
        "id": "LY6vajIdw2Ld",
        "outputId": "1eaadecb-82c9-4bef-de9b-eb417fcdfc0d"
      },
      "execution_count": 32,
      "outputs": [
        {
          "output_type": "stream",
          "name": "stdout",
          "text": [
            "Вероятность того, что ровно два мяча белые 20.4848%\n"
          ]
        }
      ]
    },
    {
      "cell_type": "code",
      "source": [
        "P1 = combinations(3, 2) / combinations(10, 2)\n",
        "P2 = combinations(2, 2) / combinations(11, 2)\n",
        "P = P1 * P2\n",
        "print(f'Вероятность того, что хотя бы один мяч белый {round((1 - P) * 100, 4)}%')"
      ],
      "metadata": {
        "colab": {
          "base_uri": "https://localhost:8080/"
        },
        "id": "DaqKE_uyzzCT",
        "outputId": "5b4f350d-1af0-402c-b9fb-a4bf1af9697c"
      },
      "execution_count": 33,
      "outputs": [
        {
          "output_type": "stream",
          "name": "stdout",
          "text": [
            "Вероятность того, что хотя бы один мяч белый 99.8788%\n"
          ]
        }
      ]
    },
    {
      "cell_type": "markdown",
      "source": [
        "___"
      ],
      "metadata": {
        "id": "Su3CCrRk4KQr"
      }
    }
  ]
}